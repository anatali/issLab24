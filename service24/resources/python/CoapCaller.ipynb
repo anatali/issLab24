{
 "cells": [
  {
   "cell_type": "code",
   "execution_count": 1,
   "id": "9cdd398a",
   "metadata": {},
   "outputs": [
    {
     "ename": "ModuleNotFoundError",
     "evalue": "No module named 'coapthon'",
     "output_type": "error",
     "traceback": [
      "\u001b[1;31m---------------------------------------------------------------------------\u001b[0m",
      "\u001b[1;31mModuleNotFoundError\u001b[0m                       Traceback (most recent call last)",
      "Cell \u001b[1;32mIn[1], line 1\u001b[0m\n\u001b[1;32m----> 1\u001b[0m \u001b[38;5;28;01mfrom\u001b[39;00m \u001b[38;5;21;01mcoapthon\u001b[39;00m\u001b[38;5;21;01m.\u001b[39;00m\u001b[38;5;21;01mclient\u001b[39;00m\u001b[38;5;21;01m.\u001b[39;00m\u001b[38;5;21;01mhelperclient\u001b[39;00m \u001b[38;5;28;01mimport\u001b[39;00m HelperClient\n\u001b[0;32m      4\u001b[0m host \u001b[38;5;241m=\u001b[39m \u001b[38;5;124m\"\u001b[39m\u001b[38;5;124mlocalhost\u001b[39m\u001b[38;5;124m\"\u001b[39m\n\u001b[0;32m      5\u001b[0m port \u001b[38;5;241m=\u001b[39m \u001b[38;5;241m8037\u001b[39m\n",
      "\u001b[1;31mModuleNotFoundError\u001b[0m: No module named 'coapthon'"
     ]
    }
   ],
   "source": [
    "from coapthon.client.helperclient import HelperClient\n",
    "\n",
    " \n",
    "host = \"localhost\"\n",
    "port = 8037\n",
    "path =\"ctxcoapdemo/actorcoap\"\n",
    "fullpath = \"coap://localhost:8011/ctxservice/servicemath\"\n",
    "client = HelperClient(server=(host, port))\n",
    "print( \"client\" + str(client)  )\n",
    "response = client.get(fullpath)\n",
    "#print( \"response\" + response  )\n",
    "#client.stop()     "
   ]
  },
  {
   "cell_type": "code",
   "execution_count": null,
   "id": "1d01a54d",
   "metadata": {},
   "outputs": [],
   "source": []
  }
 ],
 "metadata": {
  "kernelspec": {
   "display_name": "Python 3 (ipykernel)",
   "language": "python",
   "name": "python3"
  },
  "language_info": {
   "codemirror_mode": {
    "name": "ipython",
    "version": 3
   },
   "file_extension": ".py",
   "mimetype": "text/x-python",
   "name": "python",
   "nbconvert_exporter": "python",
   "pygments_lexer": "ipython3",
   "version": "3.11.3"
  }
 },
 "nbformat": 4,
 "nbformat_minor": 5
}
