{
 "cells": [
  {
   "cell_type": "markdown",
   "metadata": {
    "slideshow": {
     "slide_type": "subslide"
    }
   },
   "source": [
    "# Using server\n"
   ]
  },
  {
   "cell_type": "code",
   "execution_count": 6,
   "metadata": {
    "scrolled": true
   },
   "outputs": [
    {
     "name": "stdout",
     "output_type": "stream",
     "text": [
      "CONNECTED  ('localhost', 8011)\n",
      "request  msg(dofibo,request,pythoncaller1,servicemath,dofibo(43),1)\n",
      "request  msg(dofibo,request,pythoncaller1,servicemath,dofibo(40),1)\n",
      "handleAnswer \n",
      "final reply= msg(fibodone,reply,actionexec4,pythoncaller1,fibodone(pythoncaller1,40,165580141,395),28)\n",
      "\n",
      "handleAnswer \n",
      "final reply= msg(fibodone,reply,actionexec3,pythoncaller1,fibodone(pythoncaller1,43,701408733,1642),30)\n",
      "\n"
     ]
    }
   ],
   "source": [
    "##############################################################\n",
    "# forward       : sends some requets to server.qak\n",
    "##############################################################\n",
    "import socket\n",
    "import time\n",
    " \n",
    "port = 8011\n",
    "sock = socket.socket(socket.AF_INET, socket.SOCK_STREAM)\n",
    "\n",
    "msg1  = \"msg(dofibo,request,pythoncaller1,servicemath,dofibo(43),1)\"\n",
    "msg2  = \"msg(dofibo,request,pythoncaller1,servicemath,dofibo(40),1)\"\n",
    " \n",
    "\n",
    "def connect(port) :\n",
    "    server_address = ('localhost', port)\n",
    "    sock.connect(server_address)    \n",
    "    print(\"CONNECTED \" , server_address)\n",
    "\n",
    "def forward( message ) :\n",
    "    print(\"forward \", message)\n",
    "    msg = message + \"\\n\"\n",
    "    byt=msg.encode()    #required in Python3\n",
    "    sock.send(byt)\n",
    "\n",
    "def emit( event ) :\n",
    "    print(\"emit \", event)\n",
    "    msg = event + \"\\n\"\n",
    "    byt=msg.encode()    #required in Python3\n",
    "    sock.send(byt)\n",
    "\n",
    "def work() :\n",
    "    forward( msg1 ) \n",
    "    time.sleep(1)\n",
    "    emit( alarm )\n",
    "    forward( msg2 ) \n",
    "\n",
    "def workrequest() :\n",
    "    request( msg1 ) \n",
    "    ##time.sleep(1)\n",
    "    request( msg2 )\n",
    "    handleAnswer()\n",
    "    handleAnswer()\n",
    "    \n",
    "def terminate() :\n",
    "    sock.close()\n",
    "    print(\"BYE\")\n",
    "\n",
    "def request( message ) :\n",
    "    print(\"request \", message)\n",
    "    msg = message + \"\\n\"\n",
    "    byt=msg.encode()    #required in Python3\n",
    "    sock.send(byt)\n",
    "\n",
    "    \n",
    "def handleAnswer() :\n",
    "    print(\"handleAnswer \" )\n",
    "    while True:  ##client wants to maintain the connection\n",
    "        reply = ''\n",
    "        while True:\n",
    "            answer = sock.recv(50)\n",
    "            ## print(\"answer len=\", len(answer))\n",
    "            if len(answer) <= 0 :\n",
    "                break\n",
    "            reply += answer.decode(\"utf-8\")\n",
    "            ## print(\"reply=\", reply)\n",
    "            if reply.endswith(\"\\n\") :\n",
    "                break\n",
    "        print(\"final reply=\", reply)\n",
    "        break\n",
    "        \n",
    "def receiveALine() :    \n",
    "    print(\"receiveALine \" )\n",
    "    reply = ''\n",
    "    while True:\n",
    "        answer = sock.recv(50)\n",
    "        print(\"answer len=\", len(answer))\n",
    "        if len(answer) <= 0 :\n",
    "            break\n",
    "        reply += answer.decode(\"utf-8\")\n",
    "        ## print(\"reply=\", reply)\n",
    "        if reply.endswith(\"\\n\") :\n",
    "            break\n",
    "    print(\"final reply=\", reply)\n",
    "    \n",
    "    \n",
    "def console() :  \n",
    "    v =  str( input() )\n",
    "    print(\"INPUT\" , v  )    \n",
    "    while( v != \"q\"  ) :\n",
    "        request(  depositrequest.replace(\"K\", v) )\n",
    "        v = str(input() ) \n",
    "            \n",
    "###########################################    \n",
    "connect(port)\n",
    "workrequest()\n",
    "##terminate()  \n"
   ]
  },
  {
   "cell_type": "code",
   "execution_count": null,
   "metadata": {},
   "outputs": [],
   "source": []
  },
  {
   "cell_type": "code",
   "execution_count": null,
   "metadata": {},
   "outputs": [],
   "source": []
  },
  {
   "cell_type": "code",
   "execution_count": null,
   "metadata": {},
   "outputs": [],
   "source": []
  }
 ],
 "metadata": {
  "kernelspec": {
   "display_name": "Python 3 (ipykernel)",
   "language": "python",
   "name": "python3"
  },
  "language_info": {
   "codemirror_mode": {
    "name": "ipython",
    "version": 3
   },
   "file_extension": ".py",
   "mimetype": "text/x-python",
   "name": "python",
   "nbconvert_exporter": "python",
   "pygments_lexer": "ipython3",
   "version": "3.11.3"
  }
 },
 "nbformat": 4,
 "nbformat_minor": 2
}
