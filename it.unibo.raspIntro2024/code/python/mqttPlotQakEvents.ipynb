{
 "cells": [
  {
   "cell_type": "markdown",
   "metadata": {},
   "source": [
    "## mqttPlotQakEvents.ipynb"
   ]
  },
  {
   "cell_type": "code",
   "execution_count": 15,
   "metadata": {},
   "outputs": [
    {
     "name": "stdout",
     "output_type": "stream",
     "text": [
      "connected to broker  mqtt.eclipseprojects.io\n",
      "subscribing to unibo/sonar/events\n",
      "collecting values; please wait ...\n",
      "RECEIVED  msg(sonardata,event,sonar,none,distance(9.457663297653198),5946)\n",
      "RECEIVED  msg(sonardata,event,sonar,none,distance(9.506772756576538),5947)\n",
      "RECEIVED  msg(sonardata,event,sonar,none,distance(9.498587846755981),5948)\n",
      "RECEIVED  msg(sonardata,event,sonar,none,distance(9.482218027114868),5949)\n",
      "RECEIVED  msg(sonardata,event,sonar,none,distance(9.490402936935425),5950)\n",
      "RECEIVED  msg(sonardata,event,sonar,none,distance(9.510865211486816),5951)\n",
      "RECEIVED  msg(sonardata,event,sonar,none,distance(9.449478387832642),5952)\n",
      "RECEIVED  msg(sonardata,event,sonar,none,distance(9.47812557220459),5953)\n",
      "RECEIVED  msg(sonardata,event,sonar,none,distance(9.555882215499878),5954)\n",
      "RECEIVED  msg(sonardata,event,sonar,none,distance(9.45357084274292),5955)\n",
      "RECEIVED  msg(sonardata,event,sonar,none,distance(9.412646293640137),5956)\n",
      "RECEIVED  msg(sonardata,event,sonar,none,distance(9.474033117294312),5957)\n",
      "RECEIVED  msg(sonardata,event,sonar,none,distance(9.474033117294312),5958)\n",
      "RECEIVED  msg(sonardata,event,sonar,none,distance(9.474033117294312),5959)\n",
      "RECEIVED  msg(sonardata,event,sonar,none,distance(9.498587846755981),5960)\n",
      "RECEIVED  msg(sonardata,event,sonar,none,distance(8.663727045059204),5961)\n",
      "RECEIVED  msg(sonardata,event,sonar,none,distance(8.119430541992188),5962)\n",
      "RECEIVED  msg(sonardata,event,sonar,none,distance(8.483659029006958),5963)\n",
      "RECEIVED  msg(sonardata,event,sonar,none,distance(7.43189811706543),5964)\n",
      "RECEIVED  msg(sonardata,event,sonar,none,distance(7.100409269332886),5965)\n",
      "RECEIVED  msg(sonardata,event,sonar,none,distance(7.2109055519104),5966)\n",
      "RECEIVED  msg(sonardata,event,sonar,none,distance(5.889042615890503),5967)\n",
      "RECEIVED  msg(sonardata,event,sonar,none,distance(5.623033046722412),5968)\n",
      "RECEIVED  msg(sonardata,event,sonar,none,distance(5.1810479164123535),5969)\n",
      "RECEIVED  msg(sonardata,event,sonar,none,distance(5.447057485580444),5970)\n",
      "RECEIVED  msg(sonardata,event,sonar,none,distance(4.80044960975647),5971)\n",
      "RECEIVED  msg(sonardata,event,sonar,none,distance(5.062366724014282),5972)\n",
      "RECEIVED  msg(sonardata,event,sonar,none,distance(4.342094659805298),5973)\n",
      "RECEIVED  msg(sonardata,event,sonar,none,distance(4.329817295074463),5974)\n",
      "RECEIVED  msg(sonardata,event,sonar,none,distance(5.557553768157959),5975)\n",
      "RECEIVED  msg(sonardata,event,sonar,none,distance(3.9533114433288574),5976)\n"
     ]
    },
    {
     "data": {
      "image/png": "[encoded data removed]",
      "text/plain": [
       "<Figure size 640x480 with 1 Axes>"
      ]
     },
     "metadata": {},
     "output_type": "display_data"
    },
    {
     "name": "stdout",
     "output_type": "stream",
     "text": [
      "bye\n"
     ]
    }
   ],
   "source": [
    "import time\n",
    "import paho.mqtt.client as paho\n",
    "import matplotlib.pyplot as plt\n",
    "\n",
    "brokerAddr=\"mqtt.eclipseprojects.io\"  #\"mqtt.eclipseprojects.io\"  #\"broker.hivemq.com\" \n",
    "duration = 20\n",
    "x        = []\n",
    "d        = []\n",
    "n        = 0\n",
    "goon     = True\n",
    "msgnum   = 0 \n",
    "\n",
    "##############################################################\n",
    "###  msg(sonarRobot,event,sonar,none,sonar(V),N)\n",
    "##############################################################\n",
    "def diagram() :\n",
    "    global d\n",
    "    ##plt.ylabel('sonar data')\n",
    "    fig, ax = plt.subplots()\n",
    "    ax.set_title('sonar distance alarm')\n",
    "    ax.set_ylabel('sonar data')\n",
    "    ax.axhline(5, color ='green', lw = 2) \n",
    "    ax.plot(list(d), 'ro') #, color='red'\n",
    "    plt.show()\n",
    "    \n",
    "def on_message(client, userdata, message) :   #define callback\n",
    "    global msgnum,  x,y,z, goon\n",
    "    if not goon :\n",
    "        return\n",
    "    evMsg   = str( message.payload.decode(\"utf-8\")  )\n",
    "    print(\"RECEIVED \", evMsg)\n",
    "    msgitems = evMsg.split(\",\")\n",
    "    if msgnum < 30  :\n",
    "        msgnum = msgnum + 1\n",
    "        vd = float( msgitems[4].split('(')[1].split(')')[0] )\n",
    "        ## if msgnum % 10 == 0  :\n",
    "        ##    print(\"evMsg=\", evMsg, vd   )  \n",
    "        d.append( vd )\n",
    "    else  :\n",
    "        #print(\"evMsg plot=\", evMsg, \"msgnum=\",  msgitems[4] )\n",
    "        diagram()\n",
    "        goon = False\n",
    "        client.disconnect()\n",
    "    \n",
    "client= paho.Client(\"receiver\")      \n",
    "client.on_message=on_message            # Bind function to callback\n",
    "\n",
    "client.connect(brokerAddr)              #connect\n",
    "print(\"connected to broker \", brokerAddr)\n",
    "print(\"subscribing to unibo/sonar/events\")\n",
    "client.subscribe(\"unibo/sonar/events\")      #subscribe\n",
    "\n",
    "print(\"collecting values; please wait ...\" )\n",
    "client.loop_start()             #start loop to process received messages\n",
    "time.sleep(duration)\n",
    "client.disconnect()             #disconnect\n",
    "print(\"bye\")\n",
    "client.loop_stop()              #stop loop    "
   ]
  },
  {
   "cell_type": "code",
   "execution_count": null,
   "metadata": {},
   "outputs": [],
   "source": []
  }
 ],
 "metadata": {
  "kernelspec": {
   "display_name": "Python 3 (ipykernel)",
   "language": "python",
   "name": "python3"
  },
  "language_info": {
   "codemirror_mode": {
    "name": "ipython",
    "version": 3
   },
   "file_extension": ".py",
   "mimetype": "text/x-python",
   "name": "python",
   "nbconvert_exporter": "python",
   "pygments_lexer": "ipython3",
   "version": "3.11.3"
  }
 },
 "nbformat": 4,
 "nbformat_minor": 4
}
