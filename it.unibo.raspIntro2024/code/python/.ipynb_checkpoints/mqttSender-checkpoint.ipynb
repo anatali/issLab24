{
 "cells": [
  {
   "cell_type": "markdown",
   "metadata": {},
   "source": [
    "## mqttSender.py"
   ]
  },
  {
   "cell_type": "code",
   "execution_count": 3,
   "metadata": {},
   "outputs": [
    {
     "name": "stdout",
     "output_type": "stream",
     "text": [
      "publish  msg(sonarRobot,event,sonar,none,sonar(10),1)\n"
     ]
    },
    {
     "data": {
      "text/plain": [
       "<paho.mqtt.client.MQTTMessageInfo at 0x1b4550b7090>"
      ]
     },
     "execution_count": 3,
     "metadata": {},
     "output_type": "execute_result"
    }
   ],
   "source": [
    "import time\n",
    "import paho.mqtt.client as paho\n",
    "import paho.mqtt.publish as publish\n",
    "\n",
    "\n",
    "brokerAddr=\"broker.hivemq.com\"  #\"broker.hivemq.com\"   ##\"mqtt.eclipseprojects.io\"\n",
    "msg      = \"msg(sonarRobot,event,sonar,none,sonar(10),1)\"\n",
    "    \n",
    "client= paho.Client(\"sender\")      \n",
    "client.connect(brokerAddr)              #connect\n",
    "print(\"Connected. publish \", msg)\n",
    "client.publish(\"unibo/qak/events\", msg)\n",
    "## publish.single(\"unibo/qak/events\", msg, hostname=brokerAddr)\n",
    "\n",
    "   \n"
   ]
  },
  {
   "cell_type": "code",
   "execution_count": null,
   "metadata": {},
   "outputs": [],
   "source": []
  }
 ],
 "metadata": {
  "kernelspec": {
   "display_name": "Python 3",
   "language": "python",
   "name": "python3"
  },
  "language_info": {
   "codemirror_mode": {
    "name": "ipython",
    "version": 3
   },
   "file_extension": ".py",
   "mimetype": "text/x-python",
   "name": "python",
   "nbconvert_exporter": "python",
   "pygments_lexer": "ipython3",
   "version": "3.8.8"
  }
 },
 "nbformat": 4,
 "nbformat_minor": 2
}
