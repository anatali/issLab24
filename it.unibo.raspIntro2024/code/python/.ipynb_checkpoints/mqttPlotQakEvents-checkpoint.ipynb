{
 "cells": [
  {
   "cell_type": "markdown",
   "metadata": {},
   "source": [
    "## mqttPlotQakEvents.ipynb"
   ]
  },
  {
   "cell_type": "code",
   "execution_count": 13,
   "metadata": {},
   "outputs": [
    {
     "name": "stdout",
     "output_type": "stream",
     "text": [
      "connected to broker  mqtt.eclipseprojects.io\n",
      "subscribing to unibo/sonar/events\n",
      "collecting values; please wait ...\n",
      "RECEIVED  msg(sonardata,event,sonar,none,distance(6.805752515792847),5511)\n",
      "RECEIVED  msg(sonardata,event,sonar,none,distance(6.789382696151733),5512)\n",
      "RECEIVED  msg(sonardata,event,sonar,none,distance(6.760735511779785),5513)\n",
      "RECEIVED  msg(sonardata,event,sonar,none,distance(6.7648279666900635),5514)\n",
      "RECEIVED  msg(sonardata,event,sonar,none,distance(6.801660060882568),5515)\n",
      "RECEIVED  msg(sonardata,event,sonar,none,distance(6.7525506019592285),5516)\n",
      "RECEIVED  msg(sonardata,event,sonar,none,distance(6.760735511779785),5517)\n",
      "RECEIVED  msg(sonardata,event,sonar,none,distance(6.691163778305054),5518)\n",
      "RECEIVED  msg(sonardata,event,sonar,none,distance(6.687071323394775),5519)\n",
      "RECEIVED  msg(sonardata,event,sonar,none,distance(6.809844970703125),5520)\n",
      "RECEIVED  msg(sonardata,event,sonar,none,distance(6.777105331420898),5521)\n",
      "RECEIVED  msg(sonardata,event,sonar,none,distance(6.72390341758728),5522)\n",
      "RECEIVED  msg(sonardata,event,sonar,none,distance(6.744365692138672),5523)\n",
      "RECEIVED  msg(sonardata,event,sonar,none,distance(6.777105331420898),5524)\n",
      "RECEIVED  msg(sonardata,event,sonar,none,distance(6.760735511779785),5525)\n",
      "RECEIVED  msg(sonardata,event,sonar,none,distance(6.834399700164795),5526)\n",
      "RECEIVED  msg(sonardata,event,sonar,none,distance(6.732088327407837),5527)\n",
      "RECEIVED  msg(sonardata,event,sonar,none,distance(6.77301287651062),5528)\n",
      "RECEIVED  msg(sonardata,event,sonar,none,distance(6.789382696151733),5529)\n",
      "RECEIVED  msg(sonardata,event,sonar,none,distance(6.793475151062012),5530)\n",
      "RECEIVED  msg(sonardata,event,sonar,none,distance(6.703441143035889),5531)\n",
      "RECEIVED  msg(sonardata,event,sonar,none,distance(6.7525506019592285),5532)\n",
      "RECEIVED  msg(sonardata,event,sonar,none,distance(6.760735511779785),5533)\n",
      "RECEIVED  msg(sonardata,event,sonar,none,distance(6.801660060882568),5534)\n",
      "RECEIVED  msg(sonardata,event,sonar,none,distance(6.7648279666900635),5535)\n",
      "RECEIVED  msg(sonardata,event,sonar,none,distance(6.805752515792847),5536)\n",
      "RECEIVED  msg(sonardata,event,sonar,none,distance(6.678886413574219),5537)\n",
      "RECEIVED  msg(sonardata,event,sonar,none,distance(6.801660060882568),5538)\n",
      "RECEIVED  msg(sonardata,event,sonar,none,distance(6.863046884536743),5539)\n",
      "RECEIVED  msg(sonardata,event,sonar,none,distance(6.7402732372283936),5540)\n"
     ]
    },
    {
     "name": "stderr",
     "output_type": "stream",
     "text": [
      "Exception in thread Thread-17 (_thread_main):\n",
      "Traceback (most recent call last):\n",
      "  File \"C:\\DidatticaTools\\Anaconda\\Lib\\threading.py\", line 1038, in _bootstrap_inner\n",
      "    self.run()\n",
      "  File \"C:\\DidatticaTools\\Anaconda\\Lib\\threading.py\", line 975, in run\n",
      "    self._target(*self._args, **self._kwargs)\n",
      "  File \"C:\\DidatticaTools\\Anaconda\\Lib\\site-packages\\paho\\mqtt\\client.py\", line 3591, in _thread_main\n",
      "    self.loop_forever(retry_first_connection=True)\n",
      "  File \"C:\\DidatticaTools\\Anaconda\\Lib\\site-packages\\paho\\mqtt\\client.py\", line 1756, in loop_forever\n",
      "    rc = self._loop(timeout)\n",
      "         ^^^^^^^^^^^^^^^^^^^\n",
      "  File \"C:\\DidatticaTools\\Anaconda\\Lib\\site-packages\\paho\\mqtt\\client.py\", line 1164, in _loop\n",
      "    rc = self.loop_read()\n",
      "         ^^^^^^^^^^^^^^^^\n",
      "  File \"C:\\DidatticaTools\\Anaconda\\Lib\\site-packages\\paho\\mqtt\\client.py\", line 1556, in loop_read\n",
      "    rc = self._packet_read()\n",
      "         ^^^^^^^^^^^^^^^^^^^\n",
      "  File \"C:\\DidatticaTools\\Anaconda\\Lib\\site-packages\\paho\\mqtt\\client.py\", line 2439, in _packet_read\n",
      "    rc = self._packet_handle()\n",
      "         ^^^^^^^^^^^^^^^^^^^^^\n",
      "  File \"C:\\DidatticaTools\\Anaconda\\Lib\\site-packages\\paho\\mqtt\\client.py\", line 3033, in _packet_handle\n",
      "    return self._handle_publish()\n",
      "           ^^^^^^^^^^^^^^^^^^^^^^\n",
      "  File \"C:\\DidatticaTools\\Anaconda\\Lib\\site-packages\\paho\\mqtt\\client.py\", line 3327, in _handle_publish\n",
      "    self._handle_on_message(message)\n",
      "  File \"C:\\DidatticaTools\\Anaconda\\Lib\\site-packages\\paho\\mqtt\\client.py\", line 3570, in _handle_on_message\n",
      "    on_message(self, self._userdata, message)\n",
      "  File \"C:\\Users\\anatali\\AppData\\Local\\Temp\\ipykernel_27752\\3237508770.py\", line 41, in on_message\n",
      "  File \"C:\\Users\\anatali\\AppData\\Local\\Temp\\ipykernel_27752\\3237508770.py\", line 21, in diagram\n",
      "AttributeError: 'Axes' object has no attribute 'setylabel'. Did you mean: 'set_label'?\n"
     ]
    },
    {
     "name": "stdout",
     "output_type": "stream",
     "text": [
      "RECEIVED  msg(sonardata,event,sonar,none,distance(6.793475151062012),5541)\n",
      "bye\n"
     ]
    },
    {
     "data": {
      "image/png": "[encoded data removed]",
      "text/plain": [
       "<Figure size 640x480 with 1 Axes>"
      ]
     },
     "metadata": {},
     "output_type": "display_data"
    }
   ],
   "source": [
    "import time\n",
    "import paho.mqtt.client as paho\n",
    "import matplotlib.pyplot as plt\n",
    "\n",
    "brokerAddr=\"mqtt.eclipseprojects.io\"  #\"mqtt.eclipseprojects.io\"  #\"broker.hivemq.com\" \n",
    "duration = 20\n",
    "x        = []\n",
    "d        = []\n",
    "n        = 0\n",
    "goon     = True\n",
    "msgnum   = 0 \n",
    "\n",
    "##############################################################\n",
    "###  msg(sonarRobot,event,sonar,none,sonar(V),N)\n",
    "##############################################################\n",
    "def diagram() :\n",
    "    global d\n",
    "    ##plt.ylabel('sonar data')\n",
    "    fig, ax = plt.subplots()\n",
    "    ax.set_title('sonar data')\n",
    "    ax.set_ylabel('sonar data')\n",
    "    ax.axhline(5, color ='green', lw = 2) \n",
    "    ax.plot(list(d), 'ro') #, color='red'\n",
    "    plt.show()\n",
    "    \n",
    "def on_message(client, userdata, message) :   #define callback\n",
    "    global msgnum,  x,y,z, goon\n",
    "    if not goon :\n",
    "        return\n",
    "    evMsg   = str( message.payload.decode(\"utf-8\")  )\n",
    "    print(\"RECEIVED \", evMsg)\n",
    "    msgitems = evMsg.split(\",\")\n",
    "    if msgnum < 30  :\n",
    "        msgnum = msgnum + 1\n",
    "        vd = float( msgitems[4].split('(')[1].split(')')[0] )\n",
    "        ## if msgnum % 10 == 0  :\n",
    "        ##    print(\"evMsg=\", evMsg, vd   )  \n",
    "        d.append( vd )\n",
    "    else  :\n",
    "        #print(\"evMsg plot=\", evMsg, \"msgnum=\",  msgitems[4] )\n",
    "        diagram()\n",
    "        goon = False\n",
    "        client.disconnect()\n",
    "    \n",
    "client= paho.Client(\"receiver\")      \n",
    "client.on_message=on_message            # Bind function to callback\n",
    "\n",
    "client.connect(brokerAddr)              #connect\n",
    "print(\"connected to broker \", brokerAddr)\n",
    "print(\"subscribing to unibo/sonar/events\")\n",
    "client.subscribe(\"unibo/sonar/events\")      #subscribe\n",
    "\n",
    "print(\"collecting values; please wait ...\" )\n",
    "client.loop_start()             #start loop to process received messages\n",
    "time.sleep(duration)\n",
    "client.disconnect()             #disconnect\n",
    "print(\"bye\")\n",
    "client.loop_stop()              #stop loop    "
   ]
  },
  {
   "cell_type": "code",
   "execution_count": null,
   "metadata": {},
   "outputs": [],
   "source": []
  }
 ],
 "metadata": {
  "kernelspec": {
   "display_name": "Python 3 (ipykernel)",
   "language": "python",
   "name": "python3"
  },
  "language_info": {
   "codemirror_mode": {
    "name": "ipython",
    "version": 3
   },
   "file_extension": ".py",
   "mimetype": "text/x-python",
   "name": "python",
   "nbconvert_exporter": "python",
   "pygments_lexer": "ipython3",
   "version": "3.11.3"
  }
 },
 "nbformat": 4,
 "nbformat_minor": 4
}
