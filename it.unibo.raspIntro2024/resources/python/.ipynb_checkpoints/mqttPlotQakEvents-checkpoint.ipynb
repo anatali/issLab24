{
 "cells": [
  {
   "cell_type": "markdown",
   "metadata": {},
   "source": [
    "## mqttPlotQakEvents.py"
   ]
  },
  {
   "cell_type": "code",
   "execution_count": 2,
   "metadata": {},
   "outputs": [
    {
     "name": "stdout",
     "output_type": "stream",
     "text": [
      "connected to broker  broker.hivemq.com\n",
      "subscribing to unibo/qak/events\n",
      "collecting values; please wait ...\n",
      "evMsg= msg(sonarRobot,event,sonar,none,sonar(6),8042) 6.0\n",
      "evMsg= msg(sonarRobot,event,sonar,none,sonar(37),8043) 37.0\n",
      "evMsg= msg(sonarRobot,event,sonar,none,sonar(38),8044) 38.0\n",
      "evMsg= msg(sonarRobot,event,sonar,none,sonar(37),8045) 37.0\n",
      "evMsg= msg(sonarRobot,event,sonar,none,sonar(37),8046) 37.0\n",
      "evMsg= msg(sonarRobot,event,sonar,none,sonar(37),8047) 37.0\n",
      "evMsg= msg(sonarRobot,event,sonar,none,sonar(37),8048) 37.0\n",
      "evMsg= msg(sonarRobot,event,sonar,none,sonar(31),8049) 31.0\n",
      "evMsg= msg(sonarRobot,event,sonar,none,sonar(36),8050) 36.0\n",
      "evMsg= msg(sonarRobot,event,sonar,none,sonar(37),8051) 37.0\n",
      "evMsg= msg(sonarRobot,event,sonar,none,sonar(36),8052) 36.0\n",
      "evMsg= msg(sonarRobot,event,sonar,none,sonar(36),8053) 36.0\n",
      "evMsg= msg(sonarRobot,event,sonar,none,sonar(36),8054) 36.0\n",
      "evMsg= msg(sonarRobot,event,sonar,none,sonar(34),8055) 34.0\n",
      "evMsg= msg(sonarRobot,event,sonar,none,sonar(56),8056) 56.0\n",
      "evMsg= msg(sonarRobot,event,sonar,none,sonar(60),8057) 60.0\n",
      "evMsg= msg(sonarRobot,event,sonar,none,sonar(57),8058) 57.0\n",
      "evMsg= msg(sonarRobot,event,sonar,none,sonar(60),8059) 60.0\n",
      "evMsg= msg(sonarRobot,event,sonar,none,sonar(57),8060) 57.0\n",
      "evMsg= msg(sonarRobot,event,sonar,none,sonar(60),8061) 60.0\n",
      "evMsg= msg(sonarRobot,event,sonar,none,sonar(57),8062) 57.0\n",
      "evMsg= msg(sonarRobot,event,sonar,none,sonar(61),8063) 61.0\n",
      "evMsg= msg(sonarRobot,event,sonar,none,sonar(60),8064) 60.0\n",
      "evMsg= msg(sonarRobot,event,sonar,none,sonar(63),8065) 63.0\n",
      "evMsg= msg(sonarRobot,event,sonar,none,sonar(114),8066) 114.0\n",
      "evMsg= msg(sonarRobot,event,sonar,none,sonar(70),8067) 70.0\n",
      "evMsg= msg(sonarRobot,event,sonar,none,sonar(57),8068) 57.0\n",
      "evMsg= msg(sonarRobot,event,sonar,none,sonar(58),8069) 58.0\n",
      "evMsg= msg(sonarRobot,event,sonar,none,sonar(57),8070) 57.0\n",
      "evMsg= msg(sonarRobot,event,sonar,none,sonar(150),8071) 150.0\n",
      "evMsg plot= msg(sonarRobot,event,sonar,none,sonar(63),8072) msgnum= sonar(63)\n"
     ]
    },
    {
     "data": {
      "image/png": "[encoded data removed]",
      "text/plain": [
       "<Figure size 432x288 with 1 Axes>"
      ]
     },
     "metadata": {
      "needs_background": "light"
     },
     "output_type": "display_data"
    },
    {
     "name": "stdout",
     "output_type": "stream",
     "text": [
      "bye\n"
     ]
    }
   ],
   "source": [
    "import time\n",
    "import paho.mqtt.client as paho\n",
    "import matplotlib.pyplot as plt\n",
    "\n",
    "brokerAddr=\"broker.hivemq.com\"\n",
    "duration = 20\n",
    "x        = []\n",
    "y        = []\n",
    "z        = []\n",
    "goon     = True\n",
    "msgnum   = 0 \n",
    "def on_message(client, userdata, message) :   #define callback\n",
    "    global msgnum,  x,y,z, goon\n",
    "    if not goon :\n",
    "        return\n",
    "    evMsg   = str( message.payload.decode(\"utf-8\")  )\n",
    "    msgitems = evMsg.split(\",\")\n",
    "    if msgnum < 30  :\n",
    "        msgnum = msgnum + 1\n",
    "        vz = float( msgitems[4].split('(')[1].split(')')[0] )\n",
    "        if msgnum % 10 == 0  :\n",
    "            print(\"evMsg=\", evMsg, vz   )  \n",
    "        x.append( vz )\n",
    "    else  :\n",
    "        print(\"evMsg plot=\", evMsg, \"msgnum=\",  msgitems[4] )\n",
    "        plt.plot(list(x), color='red')\n",
    "        plt.show()\n",
    "        goon = False\n",
    "        client.disconnect()\n",
    "    \n",
    "client= paho.Client(\"receiver\")      \n",
    "client.on_message=on_message            # Bind function to callback\n",
    "\n",
    "client.connect(brokerAddr)              #connect\n",
    "print(\"connected to broker \", brokerAddr)\n",
    "print(\"subscribing to unibo/qak/events\")\n",
    "client.subscribe(\"unibo/qak/events\")      #subscribe\n",
    "\n",
    "print(\"collecting values; please wait ...\" )\n",
    "client.loop_start()             #start loop to process received messages\n",
    "time.sleep(duration)\n",
    "client.disconnect()             #disconnect\n",
    "print(\"bye\")\n",
    "client.loop_stop()              #stop loop        \n"
   ]
  },
  {
   "cell_type": "code",
   "execution_count": null,
   "metadata": {},
   "outputs": [],
   "source": []
  }
 ],
 "metadata": {
  "kernelspec": {
   "display_name": "Python 3",
   "language": "python",
   "name": "python3"
  },
  "language_info": {
   "codemirror_mode": {
    "name": "ipython",
    "version": 3
   },
   "file_extension": ".py",
   "mimetype": "text/x-python",
   "name": "python",
   "nbconvert_exporter": "python",
   "pygments_lexer": "ipython3",
   "version": "3.7.3"
  }
 },
 "nbformat": 4,
 "nbformat_minor": 2
}
